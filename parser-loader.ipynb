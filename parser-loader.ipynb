{
 "cells": [
  {
   "cell_type": "code",
   "execution_count": 3,
   "metadata": {},
   "outputs": [
    {
     "name": "stdout",
     "output_type": "stream",
     "text": [
      "Price: 630\n",
      "NC: Schneider Ручка шариковая \"Slider Edge M\", 1 мм, красная, 10 шт.\n",
      "Time:01/10/2023 22:10:56\n"
     ]
    }
   ],
   "source": [
    "import re\n",
    "from datetime import datetime\n",
    "from selenium import webdriver\n",
    "from selenium.webdriver.common.by import By\n",
    "from selenium.webdriver.support import expected_conditions as EC\n",
    "from selenium.webdriver.support.ui import WebDriverWait\n",
    "\n",
    "#  Ссылка на товар\n",
    "url = 'https://www.wildberries.ru/catalog/168167365/detail.aspx'\n",
    "#  В переменной driver хранится \"браузер\"\n",
    "driver = webdriver.Chrome()\n",
    "#  Отрываем url в браузере\n",
    "driver.get(url)\n",
    "\n",
    "#  Дожидаемся, пока JavaScript загрузит нужный нам элемент, макс. 60 секунд\n",
    "price = WebDriverWait(driver, 60).until(\n",
    "    EC.visibility_of_element_located(\n",
    "        (By.XPATH, \"//*[@class='price-block__final-price']\")\n",
    "                                    ))\n",
    "#  Очищаем элемент с прайсом от ненужных символов, оставляем только цифры \n",
    "price = int(re.sub(r'[^0-9]', '', price.text))\n",
    "#  Достаём название товара \n",
    "nc = str(driver.find_element(By.XPATH, \"//*[@class='product-page__header']\").text)\n",
    "#  Записываем текущую дату\n",
    "dt_string = datetime.now().strftime(\"%d/%m/%Y %H:%M:%S\")\n",
    "#  Напечатаем, что получилось\n",
    "print(f'Price: {price}\\nNC: {nc}\\nTime:{dt_string}')"
   ]
  },
  {
   "cell_type": "code",
   "execution_count": 2,
   "metadata": {},
   "outputs": [
    {
     "ename": "NameError",
     "evalue": "name 'wks' is not defined",
     "output_type": "error",
     "traceback": [
      "\u001b[0;31m---------------------------------------------------------------------------\u001b[0m",
      "\u001b[0;31mNameError\u001b[0m                                 Traceback (most recent call last)",
      "\u001b[1;32m/home/eva/git/wbmon/parser-loader.ipynb Cell 2\u001b[0m in \u001b[0;36m<cell line: 10>\u001b[0;34m()\u001b[0m\n\u001b[1;32m      <a href='vscode-notebook-cell:/home/eva/git/wbmon/parser-loader.ipynb#W1sZmlsZQ%3D%3D?line=6'>7</a>\u001b[0m sh \u001b[39m=\u001b[39m gc\u001b[39m.\u001b[39mopen_by_url(\n\u001b[1;32m      <a href='vscode-notebook-cell:/home/eva/git/wbmon/parser-loader.ipynb#W1sZmlsZQ%3D%3D?line=7'>8</a>\u001b[0m     \u001b[39m'\u001b[39m\u001b[39mhttps://docs.google.com/spreadsheets/d/1x5caEJXesZVPezlieDOh0uKaiQFLkvbdlz-o_TiAQBQ/edit?usp=sharing\u001b[39m\u001b[39m'\u001b[39m)\n\u001b[1;32m      <a href='vscode-notebook-cell:/home/eva/git/wbmon/parser-loader.ipynb#W1sZmlsZQ%3D%3D?line=8'>9</a>\u001b[0m \u001b[39m#  Записываем данные в ячейки\u001b[39;00m\n\u001b[0;32m---> <a href='vscode-notebook-cell:/home/eva/git/wbmon/parser-loader.ipynb#W1sZmlsZQ%3D%3D?line=9'>10</a>\u001b[0m wks\u001b[39m.\u001b[39mupdate_value(\u001b[39m'\u001b[39m\u001b[39mA2\u001b[39m\u001b[39m'\u001b[39m, nc)    \n\u001b[1;32m     <a href='vscode-notebook-cell:/home/eva/git/wbmon/parser-loader.ipynb#W1sZmlsZQ%3D%3D?line=10'>11</a>\u001b[0m wks\u001b[39m.\u001b[39mupdate_value(\u001b[39m'\u001b[39m\u001b[39mB2\u001b[39m\u001b[39m'\u001b[39m, price)\n\u001b[1;32m     <a href='vscode-notebook-cell:/home/eva/git/wbmon/parser-loader.ipynb#W1sZmlsZQ%3D%3D?line=11'>12</a>\u001b[0m wks\u001b[39m.\u001b[39mupdate_value(\u001b[39m'\u001b[39m\u001b[39mC2\u001b[39m\u001b[39m'\u001b[39m, dt_string)\n",
      "\u001b[0;31mNameError\u001b[0m: name 'wks' is not defined"
     ]
    }
   ],
   "source": [
    "import pygsheets\n",
    "\n",
    "#  Устанавливаем соединение с предварительно созданным Google App в личном аккаунте Google\n",
    "gc = pygsheets.authorize(service_file='key2.json')\n",
    "#  Открываем предварительно созданный Google Sheet файл по ссылке\n",
    "#  По имени почему-то не работает =/\n",
    "sh = gc.open_by_url(\n",
    "    'https://docs.google.com/spreadsheets/d/1x5caEJXesZVPezlieDOh0uKaiQFLkvbdlz-o_TiAQBQ/edit?usp=sharing')\n",
    "#  Записываем данные в ячейки\n",
    "wks.update_value('A2', nc)    \n",
    "wks.update_value('B2', price)\n",
    "wks.update_value('C2', dt_string)\n",
    "print('Updated')"
   ]
  },
  {
   "cell_type": "code",
   "execution_count": null,
   "metadata": {},
   "outputs": [],
   "source": []
  }
 ],
 "metadata": {
  "kernelspec": {
   "display_name": "heapenv",
   "language": "python",
   "name": "python3"
  },
  "language_info": {
   "codemirror_mode": {
    "name": "ipython",
    "version": 3
   },
   "file_extension": ".py",
   "mimetype": "text/x-python",
   "name": "python",
   "nbconvert_exporter": "python",
   "pygments_lexer": "ipython3",
   "version": "3.8.10"
  },
  "orig_nbformat": 4
 },
 "nbformat": 4,
 "nbformat_minor": 2
}
