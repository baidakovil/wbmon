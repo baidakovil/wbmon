{
 "cells": [
  {
   "cell_type": "code",
   "execution_count": 3,
   "metadata": {},
   "outputs": [
    {
     "name": "stdout",
     "output_type": "stream",
     "text": [
      "Price: 630\n",
      "NC: Schneider Ручка шариковая \"Slider Edge M\", 1 мм, красная, 10 шт.\n",
      "Time:01/10/2023 22:10:56\n"
     ]
    }
   ],
   "source": [
    "import re\n",
    "from datetime import datetime\n",
    "from selenium import webdriver\n",
    "from selenium.webdriver.common.by import By\n",
    "from selenium.webdriver.support import expected_conditions as EC\n",
    "from selenium.webdriver.support.ui import WebDriverWait\n",
    "\n",
    "#  Ссылка на товар\n",
    "url = 'https://www.wildberries.ru/catalog/168167365/detail.aspx'\n",
    "#  В переменной driver хранится \"браузер\"\n",
    "driver = webdriver.Chrome()\n",
    "#  Отрываем url в браузере\n",
    "driver.get(url)\n",
    "\n",
    "#  Дожидаемся, пока JavaScript загрузит нужный нам элемент, макс. 60 секунд\n",
    "price = WebDriverWait(driver, 60).until(\n",
    "    EC.visibility_of_element_located(\n",
    "        (By.XPATH, \"//*[@class='price-block__final-price']\")\n",
    "                                    ))\n",
    "#  Очищаем элемент с прайсом от ненужных символов, оставляем только цифры \n",
    "price = int(re.sub(r'[^0-9]', '', price.text))\n",
    "#  Достаём название товара \n",
    "nc = str(driver.find_element(By.XPATH, \"//*[@class='product-page__header']\").text)\n",
    "#  Записываем текущую дату\n",
    "dt_string = datetime.now().strftime(\"%d/%m/%Y %H:%M:%S\")\n",
    "#  Напечатаем, что получилось\n",
    "print(f'Price: {price}\\nNC: {nc}\\nTime:{dt_string}')"
   ]
  },
  {
   "cell_type": "code",
   "execution_count": 4,
   "metadata": {},
   "outputs": [
    {
     "name": "stdout",
     "output_type": "stream",
     "text": [
      "Updated\n"
     ]
    }
   ],
   "source": [
    "import pygsheets\n",
    "#  Устанавливаем соединение с предварительно созданным Google App в личном аккаунте Google\n",
    "gc = pygsheets.authorize(service_file='key2.json')\n",
    "#  Открываем предварительно созданный Google Sheet файл по ссылке\n",
    "#  По имени почему-то не работает =/\n",
    "sh = gc.open_by_url(\n",
    "    'https://docs.google.com/spreadsheets/d/1x5caEJXesZVPezlieDOh0uKaiQFLkvbdlz-o_TiAQBQ/edit?usp=sharing')\n",
    "#  Записываем данные в ячейки\n",
    "wks = sh.sheet1\n",
    "wks.update_value('A2', nc)    \n",
    "wks.update_value('B2', price)\n",
    "wks.update_value('C2', dt_string)\n",
    "print('Updated')"
   ]
  }
 ],
 "metadata": {
  "kernelspec": {
   "display_name": "heapenv",
   "language": "python",
   "name": "python3"
  },
  "language_info": {
   "codemirror_mode": {
    "name": "ipython",
    "version": 3
   },
   "file_extension": ".py",
   "mimetype": "text/x-python",
   "name": "python",
   "nbconvert_exporter": "python",
   "pygments_lexer": "ipython3",
   "version": "3.8.10"
  },
  "orig_nbformat": 4
 },
 "nbformat": 4,
 "nbformat_minor": 2
}
